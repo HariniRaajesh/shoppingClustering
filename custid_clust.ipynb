{
 "cells": [
  {
   "cell_type": "code",
   "execution_count": 1,
   "id": "a2c01d53-ede2-4afe-92ff-97a2eea38fb8",
   "metadata": {},
   "outputs": [],
   "source": [
    "def get_customer_cluster(customer_id, n_clusters=5):\n",
    "    df = pd.read_csv(CSV_PATH)\n",
    "\n",
    "    if customer_id not in df[\"CustomerID\"].values:\n",
    "        return None\n",
    "\n",
    "    data = df[[\"Annual Income (k$)\", \"Spending Score (1-100)\"]].values\n",
    "\n",
    "    model = AgglomerativeClustering(n_clusters=n_clusters, metric='euclidean', linkage='ward')\n",
    "    labels = model.fit_predict(data)\n",
    "\n",
    "    # Find row index for given customer ID\n",
    "    idx = df[df[\"CustomerID\"] == customer_id].index[0]\n",
    "    return {\n",
    "        \"customer_id\": int(df.loc[idx, \"CustomerID\"]),\n",
    "        \"annual_income\": float(data[idx][0]),\n",
    "        \"spending_score\": float(data[idx][1]),\n",
    "        \"cluster\": int(labels[idx])\n",
    "    }\n"
   ]
  },
  {
   "cell_type": "code",
   "execution_count": null,
   "id": "2a0ad917-65b7-4568-b84c-99034f9b5c23",
   "metadata": {},
   "outputs": [],
   "source": []
  }
 ],
 "metadata": {
  "kernelspec": {
   "display_name": "Python 3 (ipykernel)",
   "language": "python",
   "name": "python3"
  },
  "language_info": {
   "codemirror_mode": {
    "name": "ipython",
    "version": 3
   },
   "file_extension": ".py",
   "mimetype": "text/x-python",
   "name": "python",
   "nbconvert_exporter": "python",
   "pygments_lexer": "ipython3",
   "version": "3.11.4"
  }
 },
 "nbformat": 4,
 "nbformat_minor": 5
}
